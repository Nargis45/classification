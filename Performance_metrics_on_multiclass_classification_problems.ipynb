{
  "nbformat": 4,
  "nbformat_minor": 0,
  "metadata": {
    "colab": {
      "provenance": [],
      "authorship_tag": "ABX9TyMHCQ++wylZMrieXsLqzk8y",
      "include_colab_link": true
    },
    "kernelspec": {
      "name": "python3",
      "display_name": "Python 3"
    },
    "language_info": {
      "name": "python"
    }
  },
  "cells": [
    {
      "cell_type": "markdown",
      "metadata": {
        "id": "view-in-github",
        "colab_type": "text"
      },
      "source": [
        "<a href=\"https://colab.research.google.com/github/Nargis45/classification/blob/main/Performance_metrics_on_multiclass_classification_problems.ipynb\" target=\"_parent\"><img src=\"https://colab.research.google.com/assets/colab-badge.svg\" alt=\"Open In Colab\"/></a>"
      ]
    },
    {
      "cell_type": "markdown",
      "source": [
        "# **Performance_metrics_on_multiclass_classification_problems**"
      ],
      "metadata": {
        "id": "wY8jI6QslzI9"
      }
    },
    {
      "cell_type": "code",
      "execution_count": 1,
      "metadata": {
        "id": "7wIJGld2lqYG"
      },
      "outputs": [],
      "source": [
        "from sklearn import metrics"
      ]
    },
    {
      "cell_type": "code",
      "source": [
        "C='Cat'\n",
        "D='Dog'\n",
        "F='Fox'"
      ],
      "metadata": {
        "id": "lpqVcqctl5B6"
      },
      "execution_count": 2,
      "outputs": []
    },
    {
      "cell_type": "markdown",
      "source": [
        "The precision for the cat is the number of correctly predicted cat out of all predicted cats.\n",
        "\n",
        "The recall for the cat is the number of correctly predicted cat out of the number of actual cats."
      ],
      "metadata": {
        "id": "iPgGOPicmJfg"
      }
    },
    {
      "cell_type": "code",
      "source": [
        "#true values\n",
        "y_true=[C,C,C,C,C,C, F,F,F,F,F,F,F,F,F,F, D,D,D,D,D,D,D,D,D]\n",
        "#predicted values\n",
        "y_pred=[C,C,C,C,D,F, C,C,C,C,C,C,D,D,F,F, C,C,C,D,D,D,D,D,D]\n",
        "#print the confusion matrix\n",
        "print(metrics.confusion_matrix(y_true, y_pred))\n",
        "#print precision and recall among other metrics\n",
        "print(metrics.classification_report(y_true, y_pred, digits=3))"
      ],
      "metadata": {
        "colab": {
          "base_uri": "https://localhost:8080/"
        },
        "id": "mTFPfNwtl_vm",
        "outputId": "5f3d4a44-af8c-4f76-bdd4-c0360b601561"
      },
      "execution_count": 3,
      "outputs": [
        {
          "output_type": "stream",
          "name": "stdout",
          "text": [
            "[[4 1 1]\n",
            " [3 6 0]\n",
            " [6 2 2]]\n",
            "              precision    recall  f1-score   support\n",
            "\n",
            "         Cat      0.308     0.667     0.421         6\n",
            "         Dog      0.667     0.667     0.667         9\n",
            "         Fox      0.667     0.200     0.308        10\n",
            "\n",
            "    accuracy                          0.480        25\n",
            "   macro avg      0.547     0.511     0.465        25\n",
            "weighted avg      0.581     0.480     0.464        25\n",
            "\n"
          ]
        }
      ]
    },
    {
      "cell_type": "code",
      "source": [],
      "metadata": {
        "id": "kXUlI5j0nbqv"
      },
      "execution_count": null,
      "outputs": []
    }
  ]
}